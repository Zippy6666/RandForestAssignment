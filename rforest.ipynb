{
 "cells": [
  {
   "cell_type": "code",
   "execution_count": 59,
   "metadata": {},
   "outputs": [],
   "source": [
    "import pandas as pd\n",
    "import numpy as np\n",
    "import matplotlib.pyplot as plt\n",
    "from sklearn.model_selection import train_test_split\n",
    "from sklearn.metrics import accuracy_score, confusion_matrix\n",
    "from sklearn.ensemble import RandomForestClassifier\n",
    "data = pd.read_csv(\"../WineAnalysis/WineQT.csv\")"
   ]
  },
  {
   "cell_type": "markdown",
   "metadata": {},
   "source": [
    "# Dela datan i ett testset och ett träningsset"
   ]
  },
  {
   "cell_type": "code",
   "execution_count": 53,
   "metadata": {},
   "outputs": [],
   "source": [
    "data_x = data.iloc[:, :11]\n",
    "data_y = data[\"quality\"]\n",
    "x_train, x_test, y_train, y_test = train_test_split(data_x, data_y, test_size=0.2)"
   ]
  },
  {
   "cell_type": "markdown",
   "metadata": {},
   "source": [
    "# Träna modellen med träningsdatasetet"
   ]
  },
  {
   "cell_type": "code",
   "execution_count": 54,
   "metadata": {},
   "outputs": [],
   "source": [
    "rforest = RandomForestClassifier()\n",
    "rforest.fit(x_train, y_train)\n",
    "plt.show() # Plotta inget här"
   ]
  },
  {
   "cell_type": "markdown",
   "metadata": {},
   "source": [
    "# Vad får vi för test score?"
   ]
  },
  {
   "cell_type": "code",
   "execution_count": 55,
   "metadata": {},
   "outputs": [
    {
     "name": "stdout",
     "output_type": "stream",
     "text": [
      "test_score = 0.69\n"
     ]
    }
   ],
   "source": [
    "y_pred = rforest.predict(x_test)\n",
    "test_score = accuracy_score(y_test, y_pred)\n",
    "print(f'test_score = {test_score:.2f}')"
   ]
  },
  {
   "cell_type": "markdown",
   "metadata": {},
   "source": [
    "# Hur många träd använde vi?"
   ]
  },
  {
   "cell_type": "code",
   "execution_count": 56,
   "metadata": {},
   "outputs": [
    {
     "name": "stdout",
     "output_type": "stream",
     "text": [
      "100\n"
     ]
    }
   ],
   "source": [
    "print(len(rforest.estimators_))"
   ]
  },
  {
   "cell_type": "markdown",
   "metadata": {},
   "source": [
    "# Attributens vikt\n",
    "Vilka har störst påverkan?"
   ]
  },
  {
   "cell_type": "code",
   "execution_count": 57,
   "metadata": {},
   "outputs": [
    {
     "name": "stdout",
     "output_type": "stream",
     "text": [
      "fixed acidity: 0.07\n",
      "volatile acidity: 0.11\n",
      "citric acid: 0.08\n",
      "residual sugar: 0.07\n",
      "chlorides: 0.08\n",
      "free sulfur dioxide: 0.07\n",
      "total sulfur dioxide: 0.10\n",
      "density: 0.09\n",
      "pH: 0.08\n",
      "sulphates: 0.11\n",
      "alcohol: 0.15\n"
     ]
    }
   ],
   "source": [
    "feature_importances = rforest.feature_importances_\n",
    "feature_names = x_train.columns\n",
    "for name, value in zip(feature_names, feature_importances):\n",
    "    print(f\"{name}: {value:.2f}\")"
   ]
  },
  {
   "cell_type": "markdown",
   "metadata": {},
   "source": [
    "# Confusion matrix"
   ]
  },
  {
   "cell_type": "code",
   "execution_count": 80,
   "metadata": {},
   "outputs": [],
   "source": [
    "cm = confusion_matrix(y_test, y_pred)\n",
    "# plt.imshow(cm)\n",
    "# plt.colorbar()\n",
    "# plt.show()\n",
    "\n"
   ]
  }
 ],
 "metadata": {
  "kernelspec": {
   "display_name": "jupyter-env",
   "language": "python",
   "name": "python3"
  },
  "language_info": {
   "codemirror_mode": {
    "name": "ipython",
    "version": 3
   },
   "file_extension": ".py",
   "mimetype": "text/x-python",
   "name": "python",
   "nbconvert_exporter": "python",
   "pygments_lexer": "ipython3",
   "version": "3.12.0"
  },
  "orig_nbformat": 4
 },
 "nbformat": 4,
 "nbformat_minor": 2
}
