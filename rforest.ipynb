{
 "cells": [
  {
   "cell_type": "code",
   "execution_count": 188,
   "metadata": {},
   "outputs": [],
   "source": [
    "import pandas as pd\n",
    "import numpy as np\n",
    "import matplotlib.pyplot as plt\n",
    "from sklearn.model_selection import train_test_split\n",
    "from sklearn.metrics import accuracy_score, confusion_matrix\n",
    "from sklearn.ensemble import RandomForestClassifier\n",
    "from matplotlib.colors import LinearSegmentedColormap\n",
    "data = pd.read_csv(\"../WineAnalysis/WineQT.csv\")"
   ]
  },
  {
   "cell_type": "markdown",
   "metadata": {},
   "source": [
    "# Dela datan i ett testset och ett träningsset"
   ]
  },
  {
   "cell_type": "code",
   "execution_count": 142,
   "metadata": {},
   "outputs": [],
   "source": [
    "data_x = data.iloc[:, :11]\n",
    "data_y = data[\"quality\"]\n",
    "x_train, x_test, y_train, y_test = train_test_split(data_x, data_y, test_size=0.2)"
   ]
  },
  {
   "cell_type": "markdown",
   "metadata": {},
   "source": [
    "# Träna modellen med träningsdatasetet"
   ]
  },
  {
   "cell_type": "code",
   "execution_count": 143,
   "metadata": {},
   "outputs": [],
   "source": [
    "rforest = RandomForestClassifier()\n",
    "rforest.fit(x_train, y_train)\n",
    "plt.show() # Plotta inget här"
   ]
  },
  {
   "cell_type": "markdown",
   "metadata": {},
   "source": [
    "# Vad får vi för test score?"
   ]
  },
  {
   "cell_type": "code",
   "execution_count": 144,
   "metadata": {},
   "outputs": [
    {
     "name": "stdout",
     "output_type": "stream",
     "text": [
      "test_score = 0.74\n"
     ]
    }
   ],
   "source": [
    "y_pred = rforest.predict(x_test)\n",
    "test_score = accuracy_score(y_test, y_pred)\n",
    "print(f'test_score = {test_score:.2f}')"
   ]
  },
  {
   "cell_type": "markdown",
   "metadata": {},
   "source": [
    "# Hur många träd använde vi?"
   ]
  },
  {
   "cell_type": "code",
   "execution_count": 145,
   "metadata": {},
   "outputs": [
    {
     "name": "stdout",
     "output_type": "stream",
     "text": [
      "100\n"
     ]
    }
   ],
   "source": [
    "print(len(rforest.estimators_))"
   ]
  },
  {
   "cell_type": "markdown",
   "metadata": {},
   "source": [
    "# Attributens vikt\n",
    "Vilka har störst påverkan?"
   ]
  },
  {
   "cell_type": "code",
   "execution_count": 146,
   "metadata": {},
   "outputs": [
    {
     "name": "stdout",
     "output_type": "stream",
     "text": [
      "fixed acidity: 0.07\n",
      "volatile acidity: 0.10\n",
      "citric acid: 0.08\n",
      "residual sugar: 0.07\n",
      "chlorides: 0.08\n",
      "free sulfur dioxide: 0.07\n",
      "total sulfur dioxide: 0.09\n",
      "density: 0.09\n",
      "pH: 0.08\n",
      "sulphates: 0.12\n",
      "alcohol: 0.15\n"
     ]
    }
   ],
   "source": [
    "feature_importances = rforest.feature_importances_\n",
    "feature_names = x_train.columns\n",
    "for name, value in zip(feature_names, feature_importances):\n",
    "    print(f\"{name}: {value:.2f}\")"
   ]
  },
  {
   "cell_type": "markdown",
   "metadata": {},
   "source": [
    "# Confusion matrix"
   ]
  },
  {
   "cell_type": "code",
   "execution_count": 206,
   "metadata": {},
   "outputs": [
    {
     "data": {
      "image/png": "[encoded data removed]",
      "text/plain": [
       "<Figure size 640x480 with 2 Axes>"
      ]
     },
     "metadata": {},
     "output_type": "display_data"
    }
   ],
   "source": [
    "cm = confusion_matrix(y_test, y_pred)\n",
    "colors = [(0, (0,1,0,0)), (1, (0,0,1,1))]\n",
    "cmap = LinearSegmentedColormap.from_list('custom_colormap', colors)\n",
    "plt.imshow(cm, cmap=cmap)\n",
    "plt.xticks(np.arange(0, cm.shape[1]), np.arange(3, 9))\n",
    "plt.yticks(np.arange(0, cm.shape[0]), np.arange(3, 9))\n",
    "plt.colorbar()\n",
    "plt.show()"
   ]
  },
  {
   "cell_type": "markdown",
   "metadata": {},
   "source": [
    "Enligt våran confusion matrix så är det oftast klasserna 5 och 6 som försutsägs rätt. Gissningsvis är det på grund av att datan mest innehåller viner med en kvalitet på just 5 eller 6, därför är modellen bäst tränad på att förutspå just dom två klasserna."
   ]
  }
 ],
 "metadata": {
  "kernelspec": {
   "display_name": "jupyter-env",
   "language": "python",
   "name": "python3"
  },
  "language_info": {
   "codemirror_mode": {
    "name": "ipython",
    "version": 3
   },
   "file_extension": ".py",
   "mimetype": "text/x-python",
   "name": "python",
   "nbconvert_exporter": "python",
   "pygments_lexer": "ipython3",
   "version": "3.12.0"
  },
  "orig_nbformat": 4
 },
 "nbformat": 4,
 "nbformat_minor": 2
}
